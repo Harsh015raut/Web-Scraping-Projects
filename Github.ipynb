{
 "cells": [
  {
   "cell_type": "markdown",
   "id": "0413bcca-23ef-40db-abcd-c1f884897f43",
   "metadata": {},
   "source": [
    "### Use the requests library to download webpages"
   ]
  },
  {
   "cell_type": "code",
   "execution_count": 1,
   "id": "47758c92-c0c8-42d2-863b-de6c587d24ac",
   "metadata": {},
   "outputs": [],
   "source": [
    "import requests"
   ]
  },
  {
   "cell_type": "code",
   "execution_count": 2,
   "id": "82ff8f76-8fca-4191-ba32-0bacdff56287",
   "metadata": {},
   "outputs": [],
   "source": [
    "topics_url = 'https://github.com/topics'"
   ]
  },
  {
   "cell_type": "code",
   "execution_count": 3,
   "id": "4d9c9355-ff5f-41fe-8882-96e66fab1aaa",
   "metadata": {},
   "outputs": [],
   "source": [
    "response = requests.get(topics_url)"
   ]
  },
  {
   "cell_type": "code",
   "execution_count": 4,
   "id": "bf4c7f74-58a2-42c7-b669-3c776036df64",
   "metadata": {},
   "outputs": [
    {
     "data": {
      "text/plain": [
       "200"
      ]
     },
     "execution_count": 4,
     "metadata": {},
     "output_type": "execute_result"
    }
   ],
   "source": [
    "response.status_code  #Indicates whether response was successful or not"
   ]
  },
  {
   "cell_type": "code",
   "execution_count": 5,
   "id": "d84ae653-be7e-4264-9ab7-8e2101f6a50c",
   "metadata": {},
   "outputs": [
    {
     "data": {
      "text/plain": [
       "166232"
      ]
     },
     "execution_count": 5,
     "metadata": {},
     "output_type": "execute_result"
    }
   ],
   "source": [
    "len(response.text)"
   ]
  },
  {
   "cell_type": "code",
   "execution_count": 6,
   "id": "72d1fbb3-8f9b-4765-8959-06520c61ff7c",
   "metadata": {},
   "outputs": [
    {
     "data": {
      "text/plain": [
       "'\\n\\n<!DOCTYPE html>\\n<html lang=\"en\" data-color-mode=\"auto\" data-light-theme=\"light\" data-dark-theme=\"dark\"  data-a11y-animated-images=\"system\" data-a11y-link-underlines=\"true\">\\n\\n\\n  <head>\\n    <meta charset=\"utf-8\">\\n  <link rel=\"dns-prefetch\" href=\"https://github.githubassets.com\">\\n  <link rel=\"dns-prefetch\" href=\"https://avatars.githubusercontent.com\">\\n  <link rel=\"dns-prefetch\" href=\"https://github-cloud.s3.amazonaws.com\">\\n  <link rel=\"dns-prefetch\" href=\"https://user-images.githubusercontent.com/\">\\n  <link rel=\"preconnect\" href=\"https://github.githubassets.com\" crossorigin>\\n  <link rel=\"preconnect\" href=\"https://avatars.githubusercontent.com\">\\n\\n  \\n\\n  <link crossorigin=\"anonymous\" media=\"all\" rel=\"stylesheet\" href=\"https://github.githubassets.com/assets/light-b92e9647318f.css\" /><link crossorigin=\"anonymous\" media=\"all\" rel=\"stylesheet\" href=\"https://github.githubassets.com/assets/dark-5d486a4ede8e.css\" /><link data-color-theme=\"dark_dimmed\" crossorigin=\"anonymous\" media=\"all\" rel=\"styl'"
      ]
     },
     "execution_count": 6,
     "metadata": {},
     "output_type": "execute_result"
    }
   ],
   "source": [
    "page_contents = response.text\n",
    "page_contents[:1000]"
   ]
  },
  {
   "cell_type": "markdown",
   "id": "bc50cfee-a163-4f3e-a27f-cbf2b0d06c75",
   "metadata": {},
   "source": [
    "### Use Beautiful Soup to parse and extract information"
   ]
  },
  {
   "cell_type": "code",
   "execution_count": 7,
   "id": "e96d7bbe-6b5a-4756-9dcb-d5fd005d9aeb",
   "metadata": {},
   "outputs": [],
   "source": [
    "from bs4 import BeautifulSoup\n",
    "doc = BeautifulSoup(page_contents,'html.parser')"
   ]
  },
  {
   "cell_type": "code",
   "execution_count": 8,
   "id": "d0b3f10d-3bf7-4a4a-8918-86478b1a2574",
   "metadata": {},
   "outputs": [
    {
     "data": {
      "text/plain": [
       "[<p class=\"f3 lh-condensed mb-0 mt-1 Link--primary\">3D</p>,\n",
       " <p class=\"f3 lh-condensed mb-0 mt-1 Link--primary\">Ajax</p>,\n",
       " <p class=\"f3 lh-condensed mb-0 mt-1 Link--primary\">Algorithm</p>,\n",
       " <p class=\"f3 lh-condensed mb-0 mt-1 Link--primary\">Amp</p>,\n",
       " <p class=\"f3 lh-condensed mb-0 mt-1 Link--primary\">Android</p>,\n",
       " <p class=\"f3 lh-condensed mb-0 mt-1 Link--primary\">Angular</p>,\n",
       " <p class=\"f3 lh-condensed mb-0 mt-1 Link--primary\">Ansible</p>,\n",
       " <p class=\"f3 lh-condensed mb-0 mt-1 Link--primary\">API</p>,\n",
       " <p class=\"f3 lh-condensed mb-0 mt-1 Link--primary\">Arduino</p>,\n",
       " <p class=\"f3 lh-condensed mb-0 mt-1 Link--primary\">ASP.NET</p>,\n",
       " <p class=\"f3 lh-condensed mb-0 mt-1 Link--primary\">Atom</p>,\n",
       " <p class=\"f3 lh-condensed mb-0 mt-1 Link--primary\">Awesome Lists</p>,\n",
       " <p class=\"f3 lh-condensed mb-0 mt-1 Link--primary\">Amazon Web Services</p>,\n",
       " <p class=\"f3 lh-condensed mb-0 mt-1 Link--primary\">Azure</p>,\n",
       " <p class=\"f3 lh-condensed mb-0 mt-1 Link--primary\">Babel</p>,\n",
       " <p class=\"f3 lh-condensed mb-0 mt-1 Link--primary\">Bash</p>,\n",
       " <p class=\"f3 lh-condensed mb-0 mt-1 Link--primary\">Bitcoin</p>,\n",
       " <p class=\"f3 lh-condensed mb-0 mt-1 Link--primary\">Bootstrap</p>,\n",
       " <p class=\"f3 lh-condensed mb-0 mt-1 Link--primary\">Bot</p>,\n",
       " <p class=\"f3 lh-condensed mb-0 mt-1 Link--primary\">C</p>,\n",
       " <p class=\"f3 lh-condensed mb-0 mt-1 Link--primary\">Chrome</p>,\n",
       " <p class=\"f3 lh-condensed mb-0 mt-1 Link--primary\">Chrome extension</p>,\n",
       " <p class=\"f3 lh-condensed mb-0 mt-1 Link--primary\">Command line interface</p>,\n",
       " <p class=\"f3 lh-condensed mb-0 mt-1 Link--primary\">Clojure</p>,\n",
       " <p class=\"f3 lh-condensed mb-0 mt-1 Link--primary\">Code quality</p>,\n",
       " <p class=\"f3 lh-condensed mb-0 mt-1 Link--primary\">Code review</p>,\n",
       " <p class=\"f3 lh-condensed mb-0 mt-1 Link--primary\">Compiler</p>,\n",
       " <p class=\"f3 lh-condensed mb-0 mt-1 Link--primary\">Continuous integration</p>,\n",
       " <p class=\"f3 lh-condensed mb-0 mt-1 Link--primary\">COVID-19</p>,\n",
       " <p class=\"f3 lh-condensed mb-0 mt-1 Link--primary\">C++</p>]"
      ]
     },
     "execution_count": 8,
     "metadata": {},
     "output_type": "execute_result"
    }
   ],
   "source": [
    "selection_class = 'f3 lh-condensed mb-0 mt-1 Link--primary'\n",
    "topic_title_tags = doc.find_all('p',{'class':selection_class})\n",
    "topic_title_tags"
   ]
  },
  {
   "cell_type": "code",
   "execution_count": 9,
   "id": "d3aaa9af-9df4-4e6d-8f33-c2a707582ae2",
   "metadata": {},
   "outputs": [
    {
     "data": {
      "text/plain": [
       "[<p class=\"f3 lh-condensed mb-0 mt-1 Link--primary\">3D</p>,\n",
       " <p class=\"f3 lh-condensed mb-0 mt-1 Link--primary\">Ajax</p>,\n",
       " <p class=\"f3 lh-condensed mb-0 mt-1 Link--primary\">Algorithm</p>,\n",
       " <p class=\"f3 lh-condensed mb-0 mt-1 Link--primary\">Amp</p>,\n",
       " <p class=\"f3 lh-condensed mb-0 mt-1 Link--primary\">Android</p>]"
      ]
     },
     "execution_count": 9,
     "metadata": {},
     "output_type": "execute_result"
    }
   ],
   "source": [
    "topic_title_tags[:5]"
   ]
  },
  {
   "cell_type": "code",
   "execution_count": 10,
   "id": "55b51e14-fb38-4784-9e12-a8265e3711c6",
   "metadata": {},
   "outputs": [],
   "source": [
    "selection_class = 'f3 lh-condensed mb-0 mt-1 Link--primary'\n",
    "topic_title_tags = doc.find_all('p',{'class':selection_class})\n",
    "desc_selector = 'f5 color-fg-muted mb-0 mt-1'\n",
    "topic_desc_tags = doc.find_all('p',{'class': desc_selector})"
   ]
  },
  {
   "cell_type": "code",
   "execution_count": 11,
   "id": "f147f66e-7b68-4cd6-8668-05fe6d7dbb56",
   "metadata": {},
   "outputs": [
    {
     "data": {
      "text/plain": [
       "[<p class=\"f5 color-fg-muted mb-0 mt-1\">\n",
       "           3D refers to the use of three-dimensional graphics, modeling, and animation in various industries.\n",
       "         </p>,\n",
       " <p class=\"f5 color-fg-muted mb-0 mt-1\">\n",
       "           Ajax is a technique for creating interactive web applications.\n",
       "         </p>,\n",
       " <p class=\"f5 color-fg-muted mb-0 mt-1\">\n",
       "           Algorithms are self-contained sequences that carry out a variety of tasks.\n",
       "         </p>,\n",
       " <p class=\"f5 color-fg-muted mb-0 mt-1\">\n",
       "           Amp is a non-blocking concurrency library for PHP.\n",
       "         </p>,\n",
       " <p class=\"f5 color-fg-muted mb-0 mt-1\">\n",
       "           Android is an operating system built by Google designed for mobile devices.\n",
       "         </p>]"
      ]
     },
     "execution_count": 11,
     "metadata": {},
     "output_type": "execute_result"
    }
   ],
   "source": [
    "topic_desc_tags[:5]"
   ]
  },
  {
   "cell_type": "code",
   "execution_count": 12,
   "id": "ad7bf915-9258-4673-bb97-f55410f89650",
   "metadata": {},
   "outputs": [
    {
     "data": {
      "text/plain": [
       "30"
      ]
     },
     "execution_count": 12,
     "metadata": {},
     "output_type": "execute_result"
    }
   ],
   "source": [
    "\n",
    "topic_link_tags = doc.find_all('a',{'class':'no-underline flex-grow-0'})\n",
    "len(topic_link_tags)"
   ]
  },
  {
   "cell_type": "code",
   "execution_count": 13,
   "id": "5a895328-3517-4874-83ab-200a07abdbc4",
   "metadata": {},
   "outputs": [
    {
     "data": {
      "text/plain": [
       "'https://github.com//topics/3d'"
      ]
     },
     "execution_count": 13,
     "metadata": {},
     "output_type": "execute_result"
    }
   ],
   "source": [
    "topic0_url = \"https://github.com/\" + topic_link_tags[0]['href']\n",
    "topic0_url"
   ]
  },
  {
   "cell_type": "code",
   "execution_count": 14,
   "id": "6a48e1c4-2edc-467e-914a-c9628d6fabc8",
   "metadata": {},
   "outputs": [
    {
     "data": {
      "text/plain": [
       "['3D',\n",
       " 'Ajax',\n",
       " 'Algorithm',\n",
       " 'Amp',\n",
       " 'Android',\n",
       " 'Angular',\n",
       " 'Ansible',\n",
       " 'API',\n",
       " 'Arduino',\n",
       " 'ASP.NET',\n",
       " 'Atom',\n",
       " 'Awesome Lists',\n",
       " 'Amazon Web Services',\n",
       " 'Azure',\n",
       " 'Babel',\n",
       " 'Bash',\n",
       " 'Bitcoin',\n",
       " 'Bootstrap',\n",
       " 'Bot',\n",
       " 'C',\n",
       " 'Chrome',\n",
       " 'Chrome extension',\n",
       " 'Command line interface',\n",
       " 'Clojure',\n",
       " 'Code quality',\n",
       " 'Code review',\n",
       " 'Compiler',\n",
       " 'Continuous integration',\n",
       " 'COVID-19',\n",
       " 'C++']"
      ]
     },
     "execution_count": 14,
     "metadata": {},
     "output_type": "execute_result"
    }
   ],
   "source": [
    "topic_titles = [tag.text for tag in topic_title_tags]\n",
    "topic_titles"
   ]
  },
  {
   "cell_type": "code",
   "execution_count": 15,
   "id": "55371f6f-75d1-418a-86ef-f84d610f62fd",
   "metadata": {},
   "outputs": [
    {
     "data": {
      "text/plain": [
       "['3D refers to the use of three-dimensional graphics, modeling, and animation in various industries.',\n",
       " 'Ajax is a technique for creating interactive web applications.',\n",
       " 'Algorithms are self-contained sequences that carry out a variety of tasks.',\n",
       " 'Amp is a non-blocking concurrency library for PHP.',\n",
       " 'Android is an operating system built by Google designed for mobile devices.']"
      ]
     },
     "execution_count": 15,
     "metadata": {},
     "output_type": "execute_result"
    }
   ],
   "source": [
    "topic_descs = [tag.text.strip() for tag in topic_desc_tags ]\n",
    "topic_descs[:5]"
   ]
  },
  {
   "cell_type": "code",
   "execution_count": 16,
   "id": "9826d765-5ed4-4562-9ccf-85f3f037669f",
   "metadata": {},
   "outputs": [
    {
     "data": {
      "text/plain": [
       "'https://github.com/topics'"
      ]
     },
     "execution_count": 16,
     "metadata": {},
     "output_type": "execute_result"
    }
   ],
   "source": [
    "base_url = 'https://github.com/'\n",
    "topic_url = [base_url+tag['href'] for tag in topic_link_tags]\n",
    "topics_url"
   ]
  },
  {
   "cell_type": "code",
   "execution_count": 17,
   "id": "61ea21c3-ed5d-4b4b-9eab-ee4328642a7e",
   "metadata": {},
   "outputs": [],
   "source": [
    "import pandas as pd\n",
    "topics_dict = {'title':topic_titles,'description':topic_descs,'url':topic_url}"
   ]
  },
  {
   "cell_type": "code",
   "execution_count": 18,
   "id": "23c0a204-78f0-483b-95d8-d74dbb550ecc",
   "metadata": {},
   "outputs": [
    {
     "data": {
      "text/html": [
       "<div>\n",
       "<style scoped>\n",
       "    .dataframe tbody tr th:only-of-type {\n",
       "        vertical-align: middle;\n",
       "    }\n",
       "\n",
       "    .dataframe tbody tr th {\n",
       "        vertical-align: top;\n",
       "    }\n",
       "\n",
       "    .dataframe thead th {\n",
       "        text-align: right;\n",
       "    }\n",
       "</style>\n",
       "<table border=\"1\" class=\"dataframe\">\n",
       "  <thead>\n",
       "    <tr style=\"text-align: right;\">\n",
       "      <th></th>\n",
       "      <th>title</th>\n",
       "      <th>description</th>\n",
       "      <th>url</th>\n",
       "    </tr>\n",
       "  </thead>\n",
       "  <tbody>\n",
       "    <tr>\n",
       "      <th>0</th>\n",
       "      <td>3D</td>\n",
       "      <td>3D refers to the use of three-dimensional grap...</td>\n",
       "      <td>https://github.com//topics/3d</td>\n",
       "    </tr>\n",
       "    <tr>\n",
       "      <th>1</th>\n",
       "      <td>Ajax</td>\n",
       "      <td>Ajax is a technique for creating interactive w...</td>\n",
       "      <td>https://github.com//topics/ajax</td>\n",
       "    </tr>\n",
       "    <tr>\n",
       "      <th>2</th>\n",
       "      <td>Algorithm</td>\n",
       "      <td>Algorithms are self-contained sequences that c...</td>\n",
       "      <td>https://github.com//topics/algorithm</td>\n",
       "    </tr>\n",
       "    <tr>\n",
       "      <th>3</th>\n",
       "      <td>Amp</td>\n",
       "      <td>Amp is a non-blocking concurrency library for ...</td>\n",
       "      <td>https://github.com//topics/amphp</td>\n",
       "    </tr>\n",
       "    <tr>\n",
       "      <th>4</th>\n",
       "      <td>Android</td>\n",
       "      <td>Android is an operating system built by Google...</td>\n",
       "      <td>https://github.com//topics/android</td>\n",
       "    </tr>\n",
       "    <tr>\n",
       "      <th>5</th>\n",
       "      <td>Angular</td>\n",
       "      <td>Angular is an open source web application plat...</td>\n",
       "      <td>https://github.com//topics/angular</td>\n",
       "    </tr>\n",
       "    <tr>\n",
       "      <th>6</th>\n",
       "      <td>Ansible</td>\n",
       "      <td>Ansible is a simple and powerful automation en...</td>\n",
       "      <td>https://github.com//topics/ansible</td>\n",
       "    </tr>\n",
       "    <tr>\n",
       "      <th>7</th>\n",
       "      <td>API</td>\n",
       "      <td>An API (Application Programming Interface) is ...</td>\n",
       "      <td>https://github.com//topics/api</td>\n",
       "    </tr>\n",
       "    <tr>\n",
       "      <th>8</th>\n",
       "      <td>Arduino</td>\n",
       "      <td>Arduino is an open source platform for buildin...</td>\n",
       "      <td>https://github.com//topics/arduino</td>\n",
       "    </tr>\n",
       "    <tr>\n",
       "      <th>9</th>\n",
       "      <td>ASP.NET</td>\n",
       "      <td>ASP.NET is a web framework for building modern...</td>\n",
       "      <td>https://github.com//topics/aspnet</td>\n",
       "    </tr>\n",
       "    <tr>\n",
       "      <th>10</th>\n",
       "      <td>Atom</td>\n",
       "      <td>Atom is a open source text editor built with w...</td>\n",
       "      <td>https://github.com//topics/atom</td>\n",
       "    </tr>\n",
       "    <tr>\n",
       "      <th>11</th>\n",
       "      <td>Awesome Lists</td>\n",
       "      <td>An awesome list is a list of awesome things cu...</td>\n",
       "      <td>https://github.com//topics/awesome</td>\n",
       "    </tr>\n",
       "    <tr>\n",
       "      <th>12</th>\n",
       "      <td>Amazon Web Services</td>\n",
       "      <td>Amazon Web Services provides on-demand cloud c...</td>\n",
       "      <td>https://github.com//topics/aws</td>\n",
       "    </tr>\n",
       "    <tr>\n",
       "      <th>13</th>\n",
       "      <td>Azure</td>\n",
       "      <td>Azure is a cloud computing service created by ...</td>\n",
       "      <td>https://github.com//topics/azure</td>\n",
       "    </tr>\n",
       "    <tr>\n",
       "      <th>14</th>\n",
       "      <td>Babel</td>\n",
       "      <td>Babel is a compiler for writing next generatio...</td>\n",
       "      <td>https://github.com//topics/babel</td>\n",
       "    </tr>\n",
       "    <tr>\n",
       "      <th>15</th>\n",
       "      <td>Bash</td>\n",
       "      <td>Bash is a shell and command language interpret...</td>\n",
       "      <td>https://github.com//topics/bash</td>\n",
       "    </tr>\n",
       "    <tr>\n",
       "      <th>16</th>\n",
       "      <td>Bitcoin</td>\n",
       "      <td>Bitcoin is a cryptocurrency developed by Satos...</td>\n",
       "      <td>https://github.com//topics/bitcoin</td>\n",
       "    </tr>\n",
       "    <tr>\n",
       "      <th>17</th>\n",
       "      <td>Bootstrap</td>\n",
       "      <td>Bootstrap is an HTML, CSS, and JavaScript fram...</td>\n",
       "      <td>https://github.com//topics/bootstrap</td>\n",
       "    </tr>\n",
       "    <tr>\n",
       "      <th>18</th>\n",
       "      <td>Bot</td>\n",
       "      <td>A bot is an application that runs automated ta...</td>\n",
       "      <td>https://github.com//topics/bot</td>\n",
       "    </tr>\n",
       "    <tr>\n",
       "      <th>19</th>\n",
       "      <td>C</td>\n",
       "      <td>C is a general purpose programming language th...</td>\n",
       "      <td>https://github.com//topics/c</td>\n",
       "    </tr>\n",
       "    <tr>\n",
       "      <th>20</th>\n",
       "      <td>Chrome</td>\n",
       "      <td>Chrome is a web browser from the tech company ...</td>\n",
       "      <td>https://github.com//topics/chrome</td>\n",
       "    </tr>\n",
       "    <tr>\n",
       "      <th>21</th>\n",
       "      <td>Chrome extension</td>\n",
       "      <td>Chrome extensions enable users to customize th...</td>\n",
       "      <td>https://github.com//topics/chrome-extension</td>\n",
       "    </tr>\n",
       "    <tr>\n",
       "      <th>22</th>\n",
       "      <td>Command line interface</td>\n",
       "      <td>A CLI, or command-line interface, is a console...</td>\n",
       "      <td>https://github.com//topics/cli</td>\n",
       "    </tr>\n",
       "    <tr>\n",
       "      <th>23</th>\n",
       "      <td>Clojure</td>\n",
       "      <td>Clojure is a dynamic, general-purpose programm...</td>\n",
       "      <td>https://github.com//topics/clojure</td>\n",
       "    </tr>\n",
       "    <tr>\n",
       "      <th>24</th>\n",
       "      <td>Code quality</td>\n",
       "      <td>Automate your code review with style, quality,...</td>\n",
       "      <td>https://github.com//topics/code-quality</td>\n",
       "    </tr>\n",
       "    <tr>\n",
       "      <th>25</th>\n",
       "      <td>Code review</td>\n",
       "      <td>Ensure your code meets quality standards and s...</td>\n",
       "      <td>https://github.com//topics/code-review</td>\n",
       "    </tr>\n",
       "    <tr>\n",
       "      <th>26</th>\n",
       "      <td>Compiler</td>\n",
       "      <td>Compilers are software that translate higher-l...</td>\n",
       "      <td>https://github.com//topics/compiler</td>\n",
       "    </tr>\n",
       "    <tr>\n",
       "      <th>27</th>\n",
       "      <td>Continuous integration</td>\n",
       "      <td>Automatically build and test your code as you ...</td>\n",
       "      <td>https://github.com//topics/continuous-integration</td>\n",
       "    </tr>\n",
       "    <tr>\n",
       "      <th>28</th>\n",
       "      <td>COVID-19</td>\n",
       "      <td>The coronavirus disease 2019 (COVID-19) is an ...</td>\n",
       "      <td>https://github.com//topics/covid-19</td>\n",
       "    </tr>\n",
       "    <tr>\n",
       "      <th>29</th>\n",
       "      <td>C++</td>\n",
       "      <td>C++ is a general purpose and object-oriented p...</td>\n",
       "      <td>https://github.com//topics/cpp</td>\n",
       "    </tr>\n",
       "  </tbody>\n",
       "</table>\n",
       "</div>"
      ],
      "text/plain": [
       "                     title                                        description  \\\n",
       "0                       3D  3D refers to the use of three-dimensional grap...   \n",
       "1                     Ajax  Ajax is a technique for creating interactive w...   \n",
       "2                Algorithm  Algorithms are self-contained sequences that c...   \n",
       "3                      Amp  Amp is a non-blocking concurrency library for ...   \n",
       "4                  Android  Android is an operating system built by Google...   \n",
       "5                  Angular  Angular is an open source web application plat...   \n",
       "6                  Ansible  Ansible is a simple and powerful automation en...   \n",
       "7                      API  An API (Application Programming Interface) is ...   \n",
       "8                  Arduino  Arduino is an open source platform for buildin...   \n",
       "9                  ASP.NET  ASP.NET is a web framework for building modern...   \n",
       "10                    Atom  Atom is a open source text editor built with w...   \n",
       "11           Awesome Lists  An awesome list is a list of awesome things cu...   \n",
       "12     Amazon Web Services  Amazon Web Services provides on-demand cloud c...   \n",
       "13                   Azure  Azure is a cloud computing service created by ...   \n",
       "14                   Babel  Babel is a compiler for writing next generatio...   \n",
       "15                    Bash  Bash is a shell and command language interpret...   \n",
       "16                 Bitcoin  Bitcoin is a cryptocurrency developed by Satos...   \n",
       "17               Bootstrap  Bootstrap is an HTML, CSS, and JavaScript fram...   \n",
       "18                     Bot  A bot is an application that runs automated ta...   \n",
       "19                       C  C is a general purpose programming language th...   \n",
       "20                  Chrome  Chrome is a web browser from the tech company ...   \n",
       "21        Chrome extension  Chrome extensions enable users to customize th...   \n",
       "22  Command line interface  A CLI, or command-line interface, is a console...   \n",
       "23                 Clojure  Clojure is a dynamic, general-purpose programm...   \n",
       "24            Code quality  Automate your code review with style, quality,...   \n",
       "25             Code review  Ensure your code meets quality standards and s...   \n",
       "26                Compiler  Compilers are software that translate higher-l...   \n",
       "27  Continuous integration  Automatically build and test your code as you ...   \n",
       "28                COVID-19  The coronavirus disease 2019 (COVID-19) is an ...   \n",
       "29                     C++  C++ is a general purpose and object-oriented p...   \n",
       "\n",
       "                                                  url  \n",
       "0                       https://github.com//topics/3d  \n",
       "1                     https://github.com//topics/ajax  \n",
       "2                https://github.com//topics/algorithm  \n",
       "3                    https://github.com//topics/amphp  \n",
       "4                  https://github.com//topics/android  \n",
       "5                  https://github.com//topics/angular  \n",
       "6                  https://github.com//topics/ansible  \n",
       "7                      https://github.com//topics/api  \n",
       "8                  https://github.com//topics/arduino  \n",
       "9                   https://github.com//topics/aspnet  \n",
       "10                    https://github.com//topics/atom  \n",
       "11                 https://github.com//topics/awesome  \n",
       "12                     https://github.com//topics/aws  \n",
       "13                   https://github.com//topics/azure  \n",
       "14                   https://github.com//topics/babel  \n",
       "15                    https://github.com//topics/bash  \n",
       "16                 https://github.com//topics/bitcoin  \n",
       "17               https://github.com//topics/bootstrap  \n",
       "18                     https://github.com//topics/bot  \n",
       "19                       https://github.com//topics/c  \n",
       "20                  https://github.com//topics/chrome  \n",
       "21        https://github.com//topics/chrome-extension  \n",
       "22                     https://github.com//topics/cli  \n",
       "23                 https://github.com//topics/clojure  \n",
       "24            https://github.com//topics/code-quality  \n",
       "25             https://github.com//topics/code-review  \n",
       "26                https://github.com//topics/compiler  \n",
       "27  https://github.com//topics/continuous-integration  \n",
       "28                https://github.com//topics/covid-19  \n",
       "29                     https://github.com//topics/cpp  "
      ]
     },
     "execution_count": 18,
     "metadata": {},
     "output_type": "execute_result"
    }
   ],
   "source": [
    "topics_df = pd.DataFrame(topics_dict)\n",
    "topics_df"
   ]
  },
  {
   "cell_type": "markdown",
   "id": "cf52f240-2d4f-4f63-ab22-7be7e5551c82",
   "metadata": {},
   "source": [
    "## Create CSV files with extracted information"
   ]
  },
  {
   "cell_type": "code",
   "execution_count": 19,
   "id": "07f21c6b-d4cc-4875-ba8e-c373c9852572",
   "metadata": {},
   "outputs": [],
   "source": [
    "topics_df.to_csv('topics.csv',index = None)"
   ]
  },
  {
   "cell_type": "markdown",
   "id": "f0d3ceb6-e97f-40cc-ae9b-4956d1f2bda4",
   "metadata": {},
   "source": [
    "## Getting information out of a topic page"
   ]
  },
  {
   "cell_type": "code",
   "execution_count": 20,
   "id": "2ad2830b-97db-49f2-9cdc-18dd34b72451",
   "metadata": {},
   "outputs": [
    {
     "data": {
      "text/plain": [
       "'https://github.com//topics/3d'"
      ]
     },
     "execution_count": 20,
     "metadata": {},
     "output_type": "execute_result"
    }
   ],
   "source": [
    "topic_page_url = topic_url[0]\n",
    "topic_page_url"
   ]
  },
  {
   "cell_type": "code",
   "execution_count": 21,
   "id": "839786c6-377f-4399-a301-29349992cdd1",
   "metadata": {},
   "outputs": [],
   "source": [
    "response = requests.get(topic_page_url)"
   ]
  },
  {
   "cell_type": "code",
   "execution_count": 22,
   "id": "9928bf29-8143-495c-9903-3bccd5944d67",
   "metadata": {},
   "outputs": [],
   "source": [
    "topic_doc = BeautifulSoup(response.text,'html.parser')"
   ]
  },
  {
   "cell_type": "code",
   "execution_count": 23,
   "id": "9361fdc0-02ca-4e65-ba4e-28c4712ee59e",
   "metadata": {},
   "outputs": [],
   "source": [
    "h3_selection_class = 'f3 color-fg-muted text-normal lh-condensed'\n",
    "repo_tags = topic_doc.find_all('h3',{'class': h3_selection_class})"
   ]
  },
  {
   "cell_type": "code",
   "execution_count": 24,
   "id": "e4d4aad4-cdd3-4b1d-8dfe-4f1572b1ec41",
   "metadata": {},
   "outputs": [
    {
     "data": {
      "text/plain": [
       "'mrdoob'"
      ]
     },
     "execution_count": 24,
     "metadata": {},
     "output_type": "execute_result"
    }
   ],
   "source": [
    "a_tags = repo_tags[0].find_all('a')\n",
    "a_tags[0].text.strip()"
   ]
  },
  {
   "cell_type": "code",
   "execution_count": 25,
   "id": "d54506ca-40bb-4c46-acf3-979fc3f997c1",
   "metadata": {},
   "outputs": [
    {
     "data": {
      "text/plain": [
       "'three.js'"
      ]
     },
     "execution_count": 25,
     "metadata": {},
     "output_type": "execute_result"
    }
   ],
   "source": [
    "a_tags[1].text.strip()"
   ]
  },
  {
   "cell_type": "code",
   "execution_count": 26,
   "id": "fc944009-3f50-4ab4-ae36-1ffe85dafa85",
   "metadata": {},
   "outputs": [
    {
     "data": {
      "text/plain": [
       "'https://github.com//mrdoob/three.js'"
      ]
     },
     "execution_count": 26,
     "metadata": {},
     "output_type": "execute_result"
    }
   ],
   "source": [
    "base_url = 'https://github.com/'\n",
    "repo_url = base_url + a_tags[1]['href']\n",
    "repo_url"
   ]
  },
  {
   "cell_type": "code",
   "execution_count": 27,
   "id": "8c611efe-1461-440f-85b6-b96730fe4575",
   "metadata": {},
   "outputs": [
    {
     "data": {
      "text/plain": [
       "'95.1k'"
      ]
     },
     "execution_count": 27,
     "metadata": {},
     "output_type": "execute_result"
    }
   ],
   "source": [
    "\n",
    "star_tags = topic_doc.find_all('span',{'class':'Counter js-social-count'})\n",
    "star_tags[0].text"
   ]
  },
  {
   "cell_type": "code",
   "execution_count": 28,
   "id": "0b7c3934-511a-4dd4-81cd-0ccd25dc96bf",
   "metadata": {},
   "outputs": [
    {
     "data": {
      "text/plain": [
       "95100"
      ]
     },
     "execution_count": 28,
     "metadata": {},
     "output_type": "execute_result"
    }
   ],
   "source": [
    "def parse_star_count(stars_str):\n",
    "    stars_str = stars_str.strip()\n",
    "    if stars_str[-1] == 'k':\n",
    "        return int(float(stars_str[:-1])*1000)\n",
    "parse_star_count(star_tags[0].text.strip())"
   ]
  },
  {
   "cell_type": "code",
   "execution_count": 29,
   "id": "34f6166b-bbb4-4b65-b99e-cbd677e6357c",
   "metadata": {},
   "outputs": [],
   "source": [
    "def get_repo_info(h3_tag,star_tag):\n",
    "    #returns all info for repo \n",
    "    a_tags = h3_tag.find_all('a')\n",
    "    username = a_tags[0].text.strip()\n",
    "    repo_name = a_tags[1].text.strip() \n",
    "    repo_url = base_url + a_tags[1]['href']\n",
    "    stars = parse_star_count(star_tag.text.strip())\n",
    "    return username,repo_name,stars,repo_url"
   ]
  },
  {
   "cell_type": "code",
   "execution_count": 30,
   "id": "07593fa6-c474-44ed-802e-f9061cabba5c",
   "metadata": {},
   "outputs": [
    {
     "data": {
      "text/plain": [
       "('mrdoob', 'three.js', 95100, 'https://github.com//mrdoob/three.js')"
      ]
     },
     "execution_count": 30,
     "metadata": {},
     "output_type": "execute_result"
    }
   ],
   "source": [
    "get_repo_info(repo_tags[0],star_tags[0])"
   ]
  },
  {
   "cell_type": "code",
   "execution_count": 31,
   "id": "a282ebe8-db72-44b1-8e30-30e9c66df7cf",
   "metadata": {},
   "outputs": [],
   "source": [
    "topic_repos_dict = {'username':[],'repo_name':[],'stars':[],'repo_url':[]}\n",
    "for i in range(len(repo_tags)):\n",
    "    repo_info = get_repo_info(repo_tags[i],star_tags[i])\n",
    "    topic_repos_dict['username'].append(repo_info[0])\n",
    "    topic_repos_dict['repo_name'].append(repo_info[1])\n",
    "    topic_repos_dict['stars'].append(repo_info[2])\n",
    "    topic_repos_dict['repo_url'].append(repo_info[3])"
   ]
  },
  {
   "cell_type": "markdown",
   "id": "2c67d28f-9ac7-48b8-a7b0-6a37b3e81642",
   "metadata": {},
   "source": [
    "# Final Code"
   ]
  },
  {
   "cell_type": "code",
   "execution_count": 59,
   "id": "58600797-d247-4b0b-9302-c9e1d941695a",
   "metadata": {},
   "outputs": [],
   "source": [
    "import os\n",
    "\n",
    "def get_topic_page(topic_url):\n",
    "    #Download the page\n",
    "    response = requests.get(topic_url)\n",
    "    if response.status_code != 200:\n",
    "        raise Exception('Failed to load page{}'.format(topic_url))\n",
    "    #Parse using bs\n",
    "    topic_doc = BeautifulSoup(response.text,'html.parser')\n",
    "    return topic_doc\n",
    "\n",
    "def get_repo_info(h3_tag,star_tag):\n",
    "    #returns all info for repo \n",
    "    a_tags = h3_tag.find_all('a')\n",
    "    username = a_tags[0].text.strip()\n",
    "    repo_name = a_tags[1].text.strip() \n",
    "    repo_url = base_url + a_tags[1]['href']\n",
    "    stars = parse_star_count(star_tag.text.strip())\n",
    "    return username,repo_name,stars,repo_url\n",
    "\n",
    "def get_topic_repos(topic_doc):\n",
    "    \n",
    "    #Get h3 tags containing repo url,title,username\n",
    "    h3_selection_class = 'f3 color-fg-muted text-normal lh-condensed'\n",
    "    repo_tags = topic_doc.find_all('h3',{'class': h3_selection_class})\n",
    "    #Get star tags,like\n",
    "    star_tags = topic_doc.find_all('span',{'class':'Counter js-social-count'})\n",
    "    topic_repos_dict = {'username':[],'repo_name':[],'stars':[],'repo_url':[]}\n",
    "    #Get repo info\n",
    "    for i in range(len(repo_tags)):\n",
    "        repo_info = get_repo_info(repo_tags[i],star_tags[i])\n",
    "        topic_repos_dict['username'].append(repo_info[0])\n",
    "        topic_repos_dict['repo_name'].append(repo_info[1])\n",
    "        topic_repos_dict['stars'].append(repo_info[2])\n",
    "        topic_repos_dict['repo_url'].append(repo_info[3])\n",
    "    return pd.DataFrame(topic_repos_dict,index=None)\n",
    "\n",
    "def scrape_topic(topic_url,path):\n",
    "    # fname = topic_name + '.csv'\n",
    "    if os.path.exists(path):\n",
    "        print(\"The file {} already exists.Skipping....\".format(path))\n",
    "        return\n",
    "    topics_df = get_topic_repos(get_topic_page(topic_url))\n",
    "    topics_df.to_csv(path,index = None)"
   ]
  },
  {
   "cell_type": "code",
   "execution_count": 33,
   "id": "fb6ed5b8-5486-4ca1-8b58-71e1a22fcec8",
   "metadata": {},
   "outputs": [],
   "source": [
    "url4 = topic_url[4]"
   ]
  },
  {
   "cell_type": "code",
   "execution_count": 34,
   "id": "4c1ff11e-9f0c-453e-9cdd-7c826578c849",
   "metadata": {
    "scrolled": true
   },
   "outputs": [
    {
     "data": {
      "text/html": [
       "<div>\n",
       "<style scoped>\n",
       "    .dataframe tbody tr th:only-of-type {\n",
       "        vertical-align: middle;\n",
       "    }\n",
       "\n",
       "    .dataframe tbody tr th {\n",
       "        vertical-align: top;\n",
       "    }\n",
       "\n",
       "    .dataframe thead th {\n",
       "        text-align: right;\n",
       "    }\n",
       "</style>\n",
       "<table border=\"1\" class=\"dataframe\">\n",
       "  <thead>\n",
       "    <tr style=\"text-align: right;\">\n",
       "      <th></th>\n",
       "      <th>username</th>\n",
       "      <th>repo_name</th>\n",
       "      <th>stars</th>\n",
       "      <th>repo_url</th>\n",
       "    </tr>\n",
       "  </thead>\n",
       "  <tbody>\n",
       "    <tr>\n",
       "      <th>0</th>\n",
       "      <td>flutter</td>\n",
       "      <td>flutter</td>\n",
       "      <td>157000</td>\n",
       "      <td>https://github.com//flutter/flutter</td>\n",
       "    </tr>\n",
       "    <tr>\n",
       "      <th>1</th>\n",
       "      <td>facebook</td>\n",
       "      <td>react-native</td>\n",
       "      <td>112000</td>\n",
       "      <td>https://github.com//facebook/react-native</td>\n",
       "    </tr>\n",
       "    <tr>\n",
       "      <th>2</th>\n",
       "      <td>justjavac</td>\n",
       "      <td>free-programming-books-zh_CN</td>\n",
       "      <td>105000</td>\n",
       "      <td>https://github.com//justjavac/free-programming...</td>\n",
       "    </tr>\n",
       "    <tr>\n",
       "      <th>3</th>\n",
       "      <td>Genymobile</td>\n",
       "      <td>scrcpy</td>\n",
       "      <td>92500</td>\n",
       "      <td>https://github.com//Genymobile/scrcpy</td>\n",
       "    </tr>\n",
       "    <tr>\n",
       "      <th>4</th>\n",
       "      <td>Hack-with-Github</td>\n",
       "      <td>Awesome-Hacking</td>\n",
       "      <td>70100</td>\n",
       "      <td>https://github.com//Hack-with-Github/Awesome-H...</td>\n",
       "    </tr>\n",
       "    <tr>\n",
       "      <th>5</th>\n",
       "      <td>Solido</td>\n",
       "      <td>awesome-flutter</td>\n",
       "      <td>48800</td>\n",
       "      <td>https://github.com//Solido/awesome-flutter</td>\n",
       "    </tr>\n",
       "    <tr>\n",
       "      <th>6</th>\n",
       "      <td>google</td>\n",
       "      <td>material-design-icons</td>\n",
       "      <td>48800</td>\n",
       "      <td>https://github.com//google/material-design-icons</td>\n",
       "    </tr>\n",
       "    <tr>\n",
       "      <th>7</th>\n",
       "      <td>wasabeef</td>\n",
       "      <td>awesome-android-ui</td>\n",
       "      <td>47600</td>\n",
       "      <td>https://github.com//wasabeef/awesome-android-ui</td>\n",
       "    </tr>\n",
       "    <tr>\n",
       "      <th>8</th>\n",
       "      <td>square</td>\n",
       "      <td>okhttp</td>\n",
       "      <td>44600</td>\n",
       "      <td>https://github.com//square/okhttp</td>\n",
       "    </tr>\n",
       "    <tr>\n",
       "      <th>9</th>\n",
       "      <td>android</td>\n",
       "      <td>architecture-samples</td>\n",
       "      <td>43200</td>\n",
       "      <td>https://github.com//android/architecture-samples</td>\n",
       "    </tr>\n",
       "    <tr>\n",
       "      <th>10</th>\n",
       "      <td>square</td>\n",
       "      <td>retrofit</td>\n",
       "      <td>42100</td>\n",
       "      <td>https://github.com//square/retrofit</td>\n",
       "    </tr>\n",
       "    <tr>\n",
       "      <th>11</th>\n",
       "      <td>laurent22</td>\n",
       "      <td>joplin</td>\n",
       "      <td>39000</td>\n",
       "      <td>https://github.com//laurent22/joplin</td>\n",
       "    </tr>\n",
       "    <tr>\n",
       "      <th>12</th>\n",
       "      <td>dcloudio</td>\n",
       "      <td>uni-app</td>\n",
       "      <td>38700</td>\n",
       "      <td>https://github.com//dcloudio/uni-app</td>\n",
       "    </tr>\n",
       "    <tr>\n",
       "      <th>13</th>\n",
       "      <td>fastlane</td>\n",
       "      <td>fastlane</td>\n",
       "      <td>37600</td>\n",
       "      <td>https://github.com//fastlane/fastlane</td>\n",
       "    </tr>\n",
       "    <tr>\n",
       "      <th>14</th>\n",
       "      <td>appwrite</td>\n",
       "      <td>appwrite</td>\n",
       "      <td>37200</td>\n",
       "      <td>https://github.com//appwrite/appwrite</td>\n",
       "    </tr>\n",
       "    <tr>\n",
       "      <th>15</th>\n",
       "      <td>PhilJay</td>\n",
       "      <td>MPAndroidChart</td>\n",
       "      <td>36900</td>\n",
       "      <td>https://github.com//PhilJay/MPAndroidChart</td>\n",
       "    </tr>\n",
       "    <tr>\n",
       "      <th>16</th>\n",
       "      <td>skylot</td>\n",
       "      <td>jadx</td>\n",
       "      <td>36600</td>\n",
       "      <td>https://github.com//skylot/jadx</td>\n",
       "    </tr>\n",
       "    <tr>\n",
       "      <th>17</th>\n",
       "      <td>airbnb</td>\n",
       "      <td>lottie-android</td>\n",
       "      <td>34300</td>\n",
       "      <td>https://github.com//airbnb/lottie-android</td>\n",
       "    </tr>\n",
       "    <tr>\n",
       "      <th>18</th>\n",
       "      <td>shadowsocks</td>\n",
       "      <td>shadowsocks-android</td>\n",
       "      <td>34000</td>\n",
       "      <td>https://github.com//shadowsocks/shadowsocks-an...</td>\n",
       "    </tr>\n",
       "    <tr>\n",
       "      <th>19</th>\n",
       "      <td>bumptech</td>\n",
       "      <td>glide</td>\n",
       "      <td>34000</td>\n",
       "      <td>https://github.com//bumptech/glide</td>\n",
       "    </tr>\n",
       "  </tbody>\n",
       "</table>\n",
       "</div>"
      ],
      "text/plain": [
       "            username                     repo_name   stars  \\\n",
       "0            flutter                       flutter  157000   \n",
       "1           facebook                  react-native  112000   \n",
       "2          justjavac  free-programming-books-zh_CN  105000   \n",
       "3         Genymobile                        scrcpy   92500   \n",
       "4   Hack-with-Github               Awesome-Hacking   70100   \n",
       "5             Solido               awesome-flutter   48800   \n",
       "6             google         material-design-icons   48800   \n",
       "7           wasabeef            awesome-android-ui   47600   \n",
       "8             square                        okhttp   44600   \n",
       "9            android          architecture-samples   43200   \n",
       "10            square                      retrofit   42100   \n",
       "11         laurent22                        joplin   39000   \n",
       "12          dcloudio                       uni-app   38700   \n",
       "13          fastlane                      fastlane   37600   \n",
       "14          appwrite                      appwrite   37200   \n",
       "15           PhilJay                MPAndroidChart   36900   \n",
       "16            skylot                          jadx   36600   \n",
       "17            airbnb                lottie-android   34300   \n",
       "18       shadowsocks           shadowsocks-android   34000   \n",
       "19          bumptech                         glide   34000   \n",
       "\n",
       "                                             repo_url  \n",
       "0                 https://github.com//flutter/flutter  \n",
       "1           https://github.com//facebook/react-native  \n",
       "2   https://github.com//justjavac/free-programming...  \n",
       "3               https://github.com//Genymobile/scrcpy  \n",
       "4   https://github.com//Hack-with-Github/Awesome-H...  \n",
       "5          https://github.com//Solido/awesome-flutter  \n",
       "6    https://github.com//google/material-design-icons  \n",
       "7     https://github.com//wasabeef/awesome-android-ui  \n",
       "8                   https://github.com//square/okhttp  \n",
       "9    https://github.com//android/architecture-samples  \n",
       "10                https://github.com//square/retrofit  \n",
       "11               https://github.com//laurent22/joplin  \n",
       "12               https://github.com//dcloudio/uni-app  \n",
       "13              https://github.com//fastlane/fastlane  \n",
       "14              https://github.com//appwrite/appwrite  \n",
       "15         https://github.com//PhilJay/MPAndroidChart  \n",
       "16                    https://github.com//skylot/jadx  \n",
       "17          https://github.com//airbnb/lottie-android  \n",
       "18  https://github.com//shadowsocks/shadowsocks-an...  \n",
       "19                 https://github.com//bumptech/glide  "
      ]
     },
     "execution_count": 34,
     "metadata": {},
     "output_type": "execute_result"
    }
   ],
   "source": [
    "topic4_doc = get_topic_page(url4)\n",
    "topic4_repos = get_topic_repos(topic4_doc)\n",
    "topic4_repos"
   ]
  },
  {
   "cell_type": "code",
   "execution_count": 35,
   "id": "d12f1bc6-43aa-4696-8067-eeca168a90c1",
   "metadata": {
    "scrolled": true
   },
   "outputs": [
    {
     "data": {
      "text/html": [
       "<div>\n",
       "<style scoped>\n",
       "    .dataframe tbody tr th:only-of-type {\n",
       "        vertical-align: middle;\n",
       "    }\n",
       "\n",
       "    .dataframe tbody tr th {\n",
       "        vertical-align: top;\n",
       "    }\n",
       "\n",
       "    .dataframe thead th {\n",
       "        text-align: right;\n",
       "    }\n",
       "</style>\n",
       "<table border=\"1\" class=\"dataframe\">\n",
       "  <thead>\n",
       "    <tr style=\"text-align: right;\">\n",
       "      <th></th>\n",
       "      <th>username</th>\n",
       "      <th>repo_name</th>\n",
       "      <th>stars</th>\n",
       "      <th>repo_url</th>\n",
       "    </tr>\n",
       "  </thead>\n",
       "  <tbody>\n",
       "    <tr>\n",
       "      <th>0</th>\n",
       "      <td>justjavac</td>\n",
       "      <td>free-programming-books-zh_CN</td>\n",
       "      <td>105000</td>\n",
       "      <td>https://github.com//justjavac/free-programming...</td>\n",
       "    </tr>\n",
       "    <tr>\n",
       "      <th>1</th>\n",
       "      <td>angular</td>\n",
       "      <td>angular</td>\n",
       "      <td>90800</td>\n",
       "      <td>https://github.com//angular/angular</td>\n",
       "    </tr>\n",
       "    <tr>\n",
       "      <th>2</th>\n",
       "      <td>storybookjs</td>\n",
       "      <td>storybook</td>\n",
       "      <td>80700</td>\n",
       "      <td>https://github.com//storybookjs/storybook</td>\n",
       "    </tr>\n",
       "    <tr>\n",
       "      <th>3</th>\n",
       "      <td>leonardomso</td>\n",
       "      <td>33-js-concepts</td>\n",
       "      <td>59300</td>\n",
       "      <td>https://github.com//leonardomso/33-js-concepts</td>\n",
       "    </tr>\n",
       "    <tr>\n",
       "      <th>4</th>\n",
       "      <td>ionic-team</td>\n",
       "      <td>ionic-framework</td>\n",
       "      <td>49500</td>\n",
       "      <td>https://github.com//ionic-team/ionic-framework</td>\n",
       "    </tr>\n",
       "    <tr>\n",
       "      <th>5</th>\n",
       "      <td>prettier</td>\n",
       "      <td>prettier</td>\n",
       "      <td>46800</td>\n",
       "      <td>https://github.com//prettier/prettier</td>\n",
       "    </tr>\n",
       "    <tr>\n",
       "      <th>6</th>\n",
       "      <td>Asabeneh</td>\n",
       "      <td>30-Days-Of-JavaScript</td>\n",
       "      <td>38900</td>\n",
       "      <td>https://github.com//Asabeneh/30-Days-Of-JavaSc...</td>\n",
       "    </tr>\n",
       "    <tr>\n",
       "      <th>7</th>\n",
       "      <td>SheetJS</td>\n",
       "      <td>sheetjs</td>\n",
       "      <td>33700</td>\n",
       "      <td>https://github.com//SheetJS/sheetjs</td>\n",
       "    </tr>\n",
       "    <tr>\n",
       "      <th>8</th>\n",
       "      <td>angular</td>\n",
       "      <td>angular-cli</td>\n",
       "      <td>26200</td>\n",
       "      <td>https://github.com//angular/angular-cli</td>\n",
       "    </tr>\n",
       "    <tr>\n",
       "      <th>9</th>\n",
       "      <td>angular</td>\n",
       "      <td>components</td>\n",
       "      <td>23700</td>\n",
       "      <td>https://github.com//angular/components</td>\n",
       "    </tr>\n",
       "    <tr>\n",
       "      <th>10</th>\n",
       "      <td>NativeScript</td>\n",
       "      <td>NativeScript</td>\n",
       "      <td>23100</td>\n",
       "      <td>https://github.com//NativeScript/NativeScript</td>\n",
       "    </tr>\n",
       "    <tr>\n",
       "      <th>11</th>\n",
       "      <td>goldbergyoni</td>\n",
       "      <td>javascript-testing-best-practices</td>\n",
       "      <td>22400</td>\n",
       "      <td>https://github.com//goldbergyoni/javascript-te...</td>\n",
       "    </tr>\n",
       "    <tr>\n",
       "      <th>12</th>\n",
       "      <td>jhipster</td>\n",
       "      <td>generator-jhipster</td>\n",
       "      <td>20900</td>\n",
       "      <td>https://github.com//jhipster/generator-jhipster</td>\n",
       "    </tr>\n",
       "    <tr>\n",
       "      <th>13</th>\n",
       "      <td>pubkey</td>\n",
       "      <td>rxdb</td>\n",
       "      <td>19700</td>\n",
       "      <td>https://github.com//pubkey/rxdb</td>\n",
       "    </tr>\n",
       "    <tr>\n",
       "      <th>14</th>\n",
       "      <td>nrwl</td>\n",
       "      <td>nx</td>\n",
       "      <td>19700</td>\n",
       "      <td>https://github.com//nrwl/nx</td>\n",
       "    </tr>\n",
       "    <tr>\n",
       "      <th>15</th>\n",
       "      <td>wailsapp</td>\n",
       "      <td>wails</td>\n",
       "      <td>18400</td>\n",
       "      <td>https://github.com//wailsapp/wails</td>\n",
       "    </tr>\n",
       "    <tr>\n",
       "      <th>16</th>\n",
       "      <td>sudheerj</td>\n",
       "      <td>javascript-interview-questions</td>\n",
       "      <td>18200</td>\n",
       "      <td>https://github.com//sudheerj/javascript-interv...</td>\n",
       "    </tr>\n",
       "    <tr>\n",
       "      <th>17</th>\n",
       "      <td>teambit</td>\n",
       "      <td>bit</td>\n",
       "      <td>17100</td>\n",
       "      <td>https://github.com//teambit/bit</td>\n",
       "    </tr>\n",
       "    <tr>\n",
       "      <th>18</th>\n",
       "      <td>sweetalert2</td>\n",
       "      <td>sweetalert2</td>\n",
       "      <td>16300</td>\n",
       "      <td>https://github.com//sweetalert2/sweetalert2</td>\n",
       "    </tr>\n",
       "    <tr>\n",
       "      <th>19</th>\n",
       "      <td>jasontaylordev</td>\n",
       "      <td>CleanArchitecture</td>\n",
       "      <td>13800</td>\n",
       "      <td>https://github.com//jasontaylordev/CleanArchit...</td>\n",
       "    </tr>\n",
       "  </tbody>\n",
       "</table>\n",
       "</div>"
      ],
      "text/plain": [
       "          username                          repo_name   stars  \\\n",
       "0        justjavac       free-programming-books-zh_CN  105000   \n",
       "1          angular                            angular   90800   \n",
       "2      storybookjs                          storybook   80700   \n",
       "3      leonardomso                     33-js-concepts   59300   \n",
       "4       ionic-team                    ionic-framework   49500   \n",
       "5         prettier                           prettier   46800   \n",
       "6         Asabeneh              30-Days-Of-JavaScript   38900   \n",
       "7          SheetJS                            sheetjs   33700   \n",
       "8          angular                        angular-cli   26200   \n",
       "9          angular                         components   23700   \n",
       "10    NativeScript                       NativeScript   23100   \n",
       "11    goldbergyoni  javascript-testing-best-practices   22400   \n",
       "12        jhipster                 generator-jhipster   20900   \n",
       "13          pubkey                               rxdb   19700   \n",
       "14            nrwl                                 nx   19700   \n",
       "15        wailsapp                              wails   18400   \n",
       "16        sudheerj     javascript-interview-questions   18200   \n",
       "17         teambit                                bit   17100   \n",
       "18     sweetalert2                        sweetalert2   16300   \n",
       "19  jasontaylordev                  CleanArchitecture   13800   \n",
       "\n",
       "                                             repo_url  \n",
       "0   https://github.com//justjavac/free-programming...  \n",
       "1                 https://github.com//angular/angular  \n",
       "2           https://github.com//storybookjs/storybook  \n",
       "3      https://github.com//leonardomso/33-js-concepts  \n",
       "4      https://github.com//ionic-team/ionic-framework  \n",
       "5               https://github.com//prettier/prettier  \n",
       "6   https://github.com//Asabeneh/30-Days-Of-JavaSc...  \n",
       "7                 https://github.com//SheetJS/sheetjs  \n",
       "8             https://github.com//angular/angular-cli  \n",
       "9              https://github.com//angular/components  \n",
       "10      https://github.com//NativeScript/NativeScript  \n",
       "11  https://github.com//goldbergyoni/javascript-te...  \n",
       "12    https://github.com//jhipster/generator-jhipster  \n",
       "13                    https://github.com//pubkey/rxdb  \n",
       "14                        https://github.com//nrwl/nx  \n",
       "15                 https://github.com//wailsapp/wails  \n",
       "16  https://github.com//sudheerj/javascript-interv...  \n",
       "17                    https://github.com//teambit/bit  \n",
       "18        https://github.com//sweetalert2/sweetalert2  \n",
       "19  https://github.com//jasontaylordev/CleanArchit...  "
      ]
     },
     "execution_count": 35,
     "metadata": {},
     "output_type": "execute_result"
    }
   ],
   "source": [
    "get_topic_repos(get_topic_page(topic_url[5]))"
   ]
  },
  {
   "cell_type": "markdown",
   "id": "33665124-1915-456d-9e12-499633930ba2",
   "metadata": {},
   "source": [
    "# Write a single function to :\n",
    "\n",
    "- 1.Get the list of topics from the topics page\n",
    "- 2.Get the list of top repos from the individual topic pages\n",
    "- 3.For each topic, create a CSV of the top repos for the topic"
   ]
  },
  {
   "cell_type": "code",
   "execution_count": 60,
   "id": "9fce0d71-4212-437d-9b4c-0a889a2b5c1a",
   "metadata": {},
   "outputs": [],
   "source": [
    "def get_topic_titles(doc):\n",
    "    selection_class = 'f3 lh-condensed mb-0 mt-1 Link--primary'\n",
    "    topic_title_tags = doc.find_all('p',{'class':selection_class})\n",
    "    topic_titles = [tag.text for tag in topic_title_tags]\n",
    "    return topic_titles\n",
    "    \n",
    "def get_topic_desc(doc):\n",
    "    desc_selector = 'f5 color-fg-muted mb-0 mt-1'\n",
    "    topic_desc_tags = doc.find_all('p',{'class': desc_selector})\n",
    "    topic_descs = [tag.text.strip() for tag in topic_desc_tags ]\n",
    "    return topic_descs\n",
    "\n",
    "def get_topic_url(doc):\n",
    "    topic_link_tags = doc.find_all('a',{'class':'no-underline flex-grow-0'})\n",
    "    topic_url = [base_url+tag['href'] for tag in topic_link_tags]\n",
    "    return topic_url\n",
    "\n",
    "def scrape_topics():\n",
    "    topics_url = 'https://github.com/topics'\n",
    "    response = requests.get(topics_url)\n",
    "    if response.status_code != 200:\n",
    "        raise Exception('Failed to load page{}'.format(topics_url))\n",
    "    topics_dict = {\n",
    "        'title': get_topic_titles(doc),'description': get_topic_desc(doc),\n",
    "        'url':get_topic_url(doc)\n",
    "    }\n",
    "    return pd.DataFrame(topics_dict)"
   ]
  },
  {
   "cell_type": "code",
   "execution_count": 61,
   "id": "773fd94c-0a1e-4519-8f3b-11a74734ca52",
   "metadata": {},
   "outputs": [],
   "source": [
    "def scrape_topics_repos():\n",
    "    print(\"Scraping list of topics\")\n",
    "    topics_df = scrape_topics()\n",
    "\n",
    "    os.makedirs('data',exist_ok= True)\n",
    "    for index,row in topics_df.iterrows():\n",
    "        print(\"Scraping top repositories for {}\".format(row['title']))\n",
    "        scrape_topic(row['url'],'data/{}.csv'.format(row['title']) )"
   ]
  },
  {
   "cell_type": "code",
   "execution_count": 62,
   "id": "c7ed1292-0d3b-4cc3-8a4b-32998fba12da",
   "metadata": {},
   "outputs": [
    {
     "name": "stdout",
     "output_type": "stream",
     "text": [
      "Scraping list of topics\n",
      "Scraping top repositories for 3D\n",
      "Scraping top repositories for Ajax\n",
      "Scraping top repositories for Algorithm\n",
      "Scraping top repositories for Amp\n",
      "Scraping top repositories for Android\n",
      "Scraping top repositories for Angular\n",
      "Scraping top repositories for Ansible\n",
      "Scraping top repositories for API\n",
      "Scraping top repositories for Arduino\n",
      "Scraping top repositories for ASP.NET\n",
      "Scraping top repositories for Atom\n",
      "Scraping top repositories for Awesome Lists\n",
      "Scraping top repositories for Amazon Web Services\n",
      "Scraping top repositories for Azure\n",
      "Scraping top repositories for Babel\n",
      "Scraping top repositories for Bash\n",
      "Scraping top repositories for Bitcoin\n",
      "Scraping top repositories for Bootstrap\n",
      "Scraping top repositories for Bot\n",
      "Scraping top repositories for C\n",
      "Scraping top repositories for Chrome\n",
      "Scraping top repositories for Chrome extension\n",
      "Scraping top repositories for Command line interface\n",
      "Scraping top repositories for Clojure\n",
      "Scraping top repositories for Code quality\n",
      "Scraping top repositories for Code review\n",
      "Scraping top repositories for Compiler\n",
      "Scraping top repositories for Continuous integration\n",
      "Scraping top repositories for COVID-19\n",
      "Scraping top repositories for C++\n"
     ]
    }
   ],
   "source": [
    "scrape_topics_repos()"
   ]
  },
  {
   "cell_type": "code",
   "execution_count": null,
   "id": "9ee9a4fc-094d-4f3e-8360-ae10bc888647",
   "metadata": {},
   "outputs": [],
   "source": []
  },
  {
   "cell_type": "code",
   "execution_count": null,
   "id": "182f8968-76d3-4dcd-b3e0-bda534170ac0",
   "metadata": {},
   "outputs": [],
   "source": []
  },
  {
   "cell_type": "code",
   "execution_count": null,
   "id": "f2748fc7-ce58-4b98-8b36-a97fb93f0e90",
   "metadata": {},
   "outputs": [],
   "source": []
  },
  {
   "cell_type": "code",
   "execution_count": null,
   "id": "83c0a2f6-67d6-4158-9a8c-3dc7a45f9ff4",
   "metadata": {},
   "outputs": [],
   "source": []
  }
 ],
 "metadata": {
  "kernelspec": {
   "display_name": "Python 3 (ipykernel)",
   "language": "python",
   "name": "python3"
  },
  "language_info": {
   "codemirror_mode": {
    "name": "ipython",
    "version": 3
   },
   "file_extension": ".py",
   "mimetype": "text/x-python",
   "name": "python",
   "nbconvert_exporter": "python",
   "pygments_lexer": "ipython3",
   "version": "3.11.4"
  }
 },
 "nbformat": 4,
 "nbformat_minor": 5
}
