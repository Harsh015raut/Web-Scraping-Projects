{
 "cells": [
  {
   "cell_type": "code",
   "execution_count": 1,
   "id": "3fd126df-86f9-4c46-8605-019b8bec45d8",
   "metadata": {},
   "outputs": [],
   "source": [
    "import time\n",
    "import pandas as pd\n",
    "from selenium import webdriver\n",
    "from bs4 import BeautifulSoup\n",
    "from selenium.webdriver.common.by import By\n",
    "from selenium.webdriver.common.keys import Keys"
   ]
  },
  {
   "cell_type": "code",
   "execution_count": 2,
   "id": "790a2a18-273a-4c1b-85b7-283414ad7ee1",
   "metadata": {},
   "outputs": [],
   "source": [
    "def get_Job_Title(soup):\n",
    "    jobs = soup.find_all('div',class_='row1')\n",
    "    a_filt = [a for a in soup.find_all('a', class_='title') if a.get('href') is not None]\n",
    "    job_title = [job.get('title') for job in a_filt]\n",
    "    return job_title"
   ]
  },
  {
   "cell_type": "code",
   "execution_count": 3,
   "id": "22df2bc1-c5a4-475a-9483-adeb550a7e63",
   "metadata": {},
   "outputs": [],
   "source": [
    "#Company Name\n",
    "def get_Company_Name(soup):\n",
    "    company_span = soup.find_all('span',class_= 'comp-dtls-wrap')\n",
    "    a_tags = [a for a in [a_tag.find('a') for a_tag in company_span] if a is not None]\n",
    "    company_name = [atag.get('title') for atag in a_tags]\n",
    "    return company_name"
   ]
  },
  {
   "cell_type": "code",
   "execution_count": 4,
   "id": "4dc181fe-5437-42ad-b25e-c794253d93c6",
   "metadata": {},
   "outputs": [],
   "source": [
    "def get_Job_Location(soup):\n",
    "    loc = 'locWdth'\n",
    "    loct_tag = soup.find_all('span',{'class':loc})\n",
    "    location = [loc.text for loc in loct_tag]\n",
    "    return location"
   ]
  },
  {
   "cell_type": "code",
   "execution_count": 5,
   "id": "6e82d1da-3175-41f0-8201-f4605f8cb27f",
   "metadata": {},
   "outputs": [],
   "source": [
    "def get_Job_Url(soup):\n",
    "    jobs = soup.find_all('div',class_='row1')\n",
    "    a_filt = [a for a in soup.find_all('a', class_='title') if a.get('href') is not None]\n",
    "    job_url = [url.get('href') for url in a_filt]\n",
    "    return job_url"
   ]
  },
  {
   "cell_type": "code",
   "execution_count": 6,
   "id": "851bc1b2-3e58-4742-8fb9-e42f27d383be",
   "metadata": {},
   "outputs": [],
   "source": [
    "def get_info():\n",
    "    my_info = {\n",
    "        'Job Title': get_Job_Title(soup),\n",
    "        'Company Name': get_Company_Name(soup),\n",
    "        'Location':get_Job_Location(soup),\n",
    "        'Link':get_Job_Url(soup)\n",
    "    }\n",
    "    return my_info"
   ]
  },
  {
   "cell_type": "code",
   "execution_count": 9,
   "id": "c79b3a8c-3777-4234-817b-07a993710fa9",
   "metadata": {},
   "outputs": [
    {
     "name": "stdin",
     "output_type": "stream",
     "text": [
      "Enter skills / designations / companies: Data Science\n"
     ]
    }
   ],
   "source": [
    "url = 'https://www.naukri.com/'\n",
    "driver = webdriver.Chrome()\n",
    "search = input(\"Enter skills / designations / companies:\")\n",
    "driver.get(url)\n",
    "driver.maximize_window()\n",
    "driver.implicitly_wait(5)\n",
    "job_search = driver.find_element(By.CLASS_NAME,'suggestor-input ')\n",
    "job_search.send_keys(search)\n",
    "driver.find_element(By.CLASS_NAME, 'qsbSubmit').click()\n",
    "time.sleep(5)\n",
    "\n",
    "data_list = []\n",
    "for i in range(5):\n",
    "    if i!=0:\n",
    "        c = i+1\n",
    "        d = f'//*[@id=\"lastCompMark\"]/div[2]/a[{c}]'\n",
    "        driver.find_element(By.XPATH,d).click()\n",
    "    scroll_count = 10\n",
    "    # Scroll down the page multiple times\n",
    "    for _ in range(scroll_count):\n",
    "        driver.execute_script(\"window.scrollBy(0, 535);\")\n",
    "        time.sleep(3)\n",
    "    page_source = driver.page_source\n",
    "    soup = BeautifulSoup(page_source,'html.parser')\n",
    "    data = get_info()\n",
    "    data_list.append(data)\n",
    "df = pd.DataFrame({\n",
    "    'Job Title': [item for sublist in [d['Job Title'] for d in data_list] for item in sublist],\n",
    "    'Company Name': [item for sublist in [d['Company Name'] for d in data_list] for item in sublist],\n",
    "    'Location': [item for sublist in [d['Location'] for d in data_list] for item in sublist],\n",
    "    'Link': [item for sublist in [d['Link'] for d in data_list] for item in sublist]\n",
    "})\n",
    "\n",
    "# Save to a CSV file\n",
    "df.to_csv('Naukri_com.csv',index=None)"
   ]
  },
  {
   "cell_type": "code",
   "execution_count": null,
   "id": "deaf0863-670a-431e-9d7b-686a84ebe4ed",
   "metadata": {},
   "outputs": [],
   "source": []
  },
  {
   "cell_type": "code",
   "execution_count": null,
   "id": "8953dc04-fb56-4bdd-9944-e396001f0578",
   "metadata": {},
   "outputs": [],
   "source": []
  },
  {
   "cell_type": "code",
   "execution_count": null,
   "id": "7cf3bff4-6913-4884-8e5b-3a57e10cf77e",
   "metadata": {},
   "outputs": [],
   "source": []
  }
 ],
 "metadata": {
  "kernelspec": {
   "display_name": "Python 3 (ipykernel)",
   "language": "python",
   "name": "python3"
  },
  "language_info": {
   "codemirror_mode": {
    "name": "ipython",
    "version": 3
   },
   "file_extension": ".py",
   "mimetype": "text/x-python",
   "name": "python",
   "nbconvert_exporter": "python",
   "pygments_lexer": "ipython3",
   "version": "3.11.4"
  }
 },
 "nbformat": 4,
 "nbformat_minor": 5
}
